{
 "cells": [
  {
   "cell_type": "markdown",
   "metadata": {},
   "source": [
    "# Diffusion Tensor Imaging"
   ]
  },
  {
   "cell_type": "markdown",
   "metadata": {},
   "source": [
    "### Import Library"
   ]
  },
  {
   "cell_type": "code",
   "execution_count": 2,
   "metadata": {},
   "outputs": [],
   "source": [
    "import pydicom\n",
    "import matplotlib.pyplot as plt\n",
    "import os\n",
    "import numpy as np\n",
    "import pandas as pd\n",
    "from skimage.io import imread\n",
    "import seaborn as sns\n",
    "from glob import glob\n",
    "import ipywidgets as widgets\n",
    "import scipy.ndimage as ndimage\n",
    "import imageio\n",
    "from skimage.segmentation import clear_border\n",
    "from skimage import measure\n",
    "from skimage.measure import label,regionprops\n",
    "from scipy import ndimage as ndi\n",
    "from scipy.ndimage import measurements, center_of_mass, binary_dilation, zoom\n",
    "import plotly.graph_objects as go\n",
    "import math"
   ]
  },
  {
   "cell_type": "markdown",
   "metadata": {},
   "source": [
    "## Define the Mosaic dicom picture fiel and path in .ima format "
   ]
  },
  {
   "cell_type": "code",
   "execution_count": 3,
   "metadata": {},
   "outputs": [
    {
     "data": {
      "text/plain": [
       "71"
      ]
     },
     "execution_count": 3,
     "metadata": {},
     "output_type": "execute_result"
    }
   ],
   "source": [
    "##  Mosaic Picturess  ####\n",
    "\n",
    "mosaic_pictures_files = \"/Applications/tez/tez_data/TOMRUK_ZAHIDE_DTI/DTI/DIFFUSION_HIGHRES_0009/\" # Our input \n",
    "mosaic_paths = os.listdir(mosaic_pictures_files)\n",
    "mosaic_paths.sort() # Bu sort işlemi aslında çok öneli çünkü biz bu kodu her çalıştırdığımızda aynı sıralamayı veriyor ve bize bir nevi referans oluyor.\n",
    "nSeries = len(mosaic_paths)\n",
    "nSeries"
   ]
  },
  {
   "cell_type": "markdown",
   "metadata": {},
   "source": [
    "## Slice Information"
   ]
  },
  {
   "cell_type": "code",
   "execution_count": 4,
   "metadata": {},
   "outputs": [],
   "source": [
    "mosaic_picture = pydicom.read_file(mosaic_pictures_files + mosaic_paths[10])\n",
    "a = mosaic_picture.fix_meta_info\n"
   ]
  },
  {
   "cell_type": "code",
   "execution_count": 5,
   "metadata": {},
   "outputs": [],
   "source": [
    "\n",
    "def shape_calculation_slice():\n",
    "    \n",
    "    mHeight = mosaic_picture.Rows\n",
    "    mHeight = int(mHeight)\n",
    "    mWeight = mosaic_picture.Columns\n",
    "    mWeight = int(mWeight)\n",
    "\n",
    "\n",
    "    slice_number = mosaic_picture[0x019, 0x100a]\n",
    "    slice_number = str(slice_number)\n",
    "    index = slice_number.find(\":\")\n",
    "    slice_number = slice_number[index+2:]\n",
    "    slice_number = int(slice_number)\n",
    "\n",
    "    height = int(mHeight / math.sqrt(slice_number))\n",
    "    weight =int(mWeight / math.sqrt(slice_number))\n",
    "\n",
    "    return slice_number, height, weight\n",
    "\n"
   ]
  },
  {
   "cell_type": "code",
   "execution_count": 6,
   "metadata": {},
   "outputs": [
    {
     "data": {
      "text/plain": [
       "(64, 128, 128)"
      ]
     },
     "execution_count": 6,
     "metadata": {},
     "output_type": "execute_result"
    }
   ],
   "source": [
    "slice_number, height, weight = shape_calculation_slice()\n",
    "\n",
    "\n",
    "slice_number, height, weight"
   ]
  },
  {
   "cell_type": "markdown",
   "metadata": {},
   "source": [
    "### Spliting Mosaic pictures"
   ]
  },
  {
   "cell_type": "code",
   "execution_count": 7,
   "metadata": {},
   "outputs": [],
   "source": [
    "def split_slice(path):\n",
    "    \"\"\"\n",
    "    Split the only one mosaic pictures\n",
    "    \"\"\"\n",
    "    liste = []\n",
    "    b_values = []\n",
    "    mosaic_picture = pydicom.read_file(path)\n",
    "    b_val = mosaic_picture[0x019, 0x100c] # B değerini veriyor ama sayısal veri vermiyor \n",
    "    b_values.append(b_val)\n",
    "    mosaic_ndarray = mosaic_picture.pixel_array\n",
    "    \n",
    "    for i in range(8):\n",
    "        for j in range(8):\n",
    "            slice = mosaic_ndarray[i*128:(i*128)+128,j*128:(j*128)+128]\n",
    "            liste.append(slice)\n",
    "            \n",
    "    return  liste, b_values\n",
    "\n",
    "\n"
   ]
  },
  {
   "cell_type": "code",
   "execution_count": 8,
   "metadata": {},
   "outputs": [],
   "source": [
    "\n",
    "def all_mosaic_split(mosaic_pictures_files):\n",
    "    \"\"\"\n",
    "    Split the all mosaic slices in given files\n",
    "    \"\"\" \n",
    "\n",
    "    mosaic_paths = os.listdir(mosaic_pictures_files)\n",
    "    mosaic_paths.sort()\n",
    "\n",
    "    all_mosaic_slices = []\n",
    "    b_values = []\n",
    "\n",
    "    for k in mosaic_paths:\n",
    "        mosaic_slices, b_val = split_slice(mosaic_pictures_files + k)\n",
    "        str_b_value = str(b_val)\n",
    "        index = str_b_value.find(\"'\")\n",
    "        values_int = int(str_b_value[index+1:len(str_b_value)-2])\n",
    "        mosaic_slices = np.array(mosaic_slices)\n",
    "        all_mosaic_slices.append(mosaic_slices)\n",
    "        b_values.append(values_int)\n",
    "    \n",
    "    b_values = np.array(b_values)\n",
    "    all_mosaic_slices = np.array(all_mosaic_slices)\n",
    "\n",
    "    return all_mosaic_slices, b_values\n"
   ]
  },
  {
   "cell_type": "code",
   "execution_count": 9,
   "metadata": {},
   "outputs": [],
   "source": [
    "all_mosaic_slices, b_values = all_mosaic_split(mosaic_pictures_files)"
   ]
  },
  {
   "cell_type": "markdown",
   "metadata": {},
   "source": [
    "### Burda Zahide Tomruk için kendimiz elle b0 değerlerini ayırdık çünkü elde ettiğimiz b0 verileri liste içinde elde edebildik bilgisiyarda bunu ayıramadık"
   ]
  },
  {
   "cell_type": "markdown",
   "metadata": {},
   "source": [
    "### B0 ve DWI ların  ayrılması\n"
   ]
  },
  {
   "cell_type": "code",
   "execution_count": 10,
   "metadata": {},
   "outputs": [],
   "source": [
    "def b_values_divider(all_mosaic_slices, b_values):\n",
    "\n",
    "    b0_index = []\n",
    "    b0_mosaic_slicess = []\n",
    "    b0_mosaic_slicess = np.array(b0_mosaic_slicess)\n",
    "\n",
    "    dwi_index = []\n",
    "    dwi_mosaic_slicess = []\n",
    "    dwi_mosaic_slicess = np.array(dwi_mosaic_slicess)\n",
    "\n",
    "    num = 0\n",
    "\n",
    "    for i in b_values:\n",
    "\n",
    "        if i == 0:\n",
    "            b0_index.append(num)\n",
    "        elif i > 0:\n",
    "            dwi_index.append(num)\n",
    "        else:\n",
    "            print(\"Hatalı Değer B_values negatif bir değer alamaz\")\n",
    "            \n",
    "        \n",
    "        num = num + 1\n",
    "    \n",
    "    b0_index = np.array(b0_index)\n",
    "    dwi_index = np.array(dwi_index)\n",
    "\n",
    "    b0_mosaic_slicess = all_mosaic_slices[b0_index]\n",
    "    dwi_mosaic_slicess = all_mosaic_slices[dwi_index]\n",
    "\n",
    "    return b0_mosaic_slicess, dwi_mosaic_slicess, (b0_index,dwi_index)"
   ]
  },
  {
   "cell_type": "code",
   "execution_count": 11,
   "metadata": {},
   "outputs": [],
   "source": [
    "b0_mosaic_slicess, dwi_mosaic_slicess, (b0_index,dwi_index) = b_values_divider(all_mosaic_slices, b_values)"
   ]
  },
  {
   "cell_type": "code",
   "execution_count": 12,
   "metadata": {},
   "outputs": [],
   "source": [
    "b0_mosaic_slicess, dwi_mosaic_slicess, index = b_values_divider(all_mosaic_slices, b_values)"
   ]
  },
  {
   "cell_type": "markdown",
   "metadata": {},
   "source": [
    "#### Index\n",
    "Burdaki index verilerimiz bizim sırasıyla aldığımız path den dicom infolarına göre b değerlerinin hangi indexlerde 0 hangilerinde difüzyon olduğunu beliritiyor."
   ]
  },
  {
   "cell_type": "code",
   "execution_count": 13,
   "metadata": {},
   "outputs": [
    {
     "data": {
      "text/plain": [
       "(array([ 0,  1,  2,  3,  4,  5,  6,  7,  8,  9, 70]),\n",
       " array([10, 11, 12, 13, 14, 15, 16, 17, 18, 19, 20, 21, 22, 23, 24, 25, 26,\n",
       "        27, 28, 29, 30, 31, 32, 33, 34, 35, 36, 37, 38, 39, 40, 41, 42, 43,\n",
       "        44, 45, 46, 47, 48, 49, 50, 51, 52, 53, 54, 55, 56, 57, 58, 59, 60,\n",
       "        61, 62, 63, 64, 65, 66, 67, 68, 69]))"
      ]
     },
     "execution_count": 13,
     "metadata": {},
     "output_type": "execute_result"
    }
   ],
   "source": [
    "index"
   ]
  },
  {
   "cell_type": "markdown",
   "metadata": {},
   "source": [
    "### B0 değerlerinin ortalamasını alma"
   ]
  },
  {
   "cell_type": "code",
   "execution_count": 14,
   "metadata": {},
   "outputs": [],
   "source": [
    "def b0_avarager(b0_slicess):\n",
    "    # all b=0 values mosaic picturees average \n",
    "    # 4 dimentional data take average from [11,64,128,128] to [1,64,128,128]\n",
    "    \n",
    "    average_slices = [] \n",
    "\n",
    "    for i in range(len(b0_slicess[1])):\n",
    "        img = np.zeros((128,128))\n",
    "        \n",
    "        for k in range(len(b0_slicess)):\n",
    "            b0_img = b0_slicess[k,i,:,:]\n",
    "            img = b0_img + img\n",
    "\n",
    "        img = img / len(b0_slicess) \n",
    "        average_slices.append(img)\n",
    "\n",
    "\n",
    "    average_slices = np.array(average_slices)\n",
    "\n",
    "    return average_slices"
   ]
  },
  {
   "cell_type": "code",
   "execution_count": 15,
   "metadata": {},
   "outputs": [],
   "source": [
    "b0_average_mosaic_slice = b0_avarager(b0_mosaic_slicess)"
   ]
  },
  {
   "cell_type": "code",
   "execution_count": 16,
   "metadata": {},
   "outputs": [
    {
     "data": {
      "application/vnd.jupyter.widget-view+json": {
       "model_id": "397af7efb8fa421eb6fcf7eaf2311c62",
       "version_major": 2,
       "version_minor": 0
      },
      "text/plain": [
       "interactive(children=(IntSlider(value=50, description='axial_slice', max=63), Output()), _dom_classes=('widget…"
      ]
     },
     "metadata": {},
     "output_type": "display_data"
    }
   ],
   "source": [
    "m0,m1,m2 = b0_average_mosaic_slice.shape\n",
    "# Add a slider that starts with 0 and ends at the number of\n",
    "# slices along the axial plane, n0=99.\n",
    "@widgets.interact(axial_slice=(0,m0-1))\n",
    "# Define the function that shows the images of the specified slice number.\n",
    "# It starts with the 10th slice. And you can scroll over any slice\n",
    "# using the slider.\n",
    "\n",
    "def axial_slicer(axial_slice=50):\n",
    "  \n",
    "  # Show the image of the specified slice number in 'gray' color-map\n",
    "  # and axial aspect ratio\n",
    "  \n",
    "  plt.imshow(b0_average_mosaic_slice[axial_slice,:,:])\n",
    "  #plt.imshow(mosaic_pictures_vol[axial_slice,:,:], cmap='hot')\n",
    "  #plt.imshow(mosaic_pictures_vol[axial_slice,:,:], cmap='RdBu')\n",
    "\n",
    "\n",
    "  # Don't show the axis\n",
    "  plt.axis('off')\n",
    "  plt.title(\"Average b=0 Brain Slices\")"
   ]
  },
  {
   "cell_type": "code",
   "execution_count": null,
   "metadata": {},
   "outputs": [],
   "source": []
  },
  {
   "cell_type": "code",
   "execution_count": null,
   "metadata": {},
   "outputs": [],
   "source": [
    "data = {\"Mosaic_Paths\":mosaic_paths, \"Mosaic_slices\": list(all_mosaic_slices), \"B_values\":b_values, \"Gradient_Infromation\":range(len(mosaic_paths))}\n",
    "information_dataFrame = pd.DataFrame(data)\n",
    "information_dataFrame"
   ]
  }
 ],
 "metadata": {
  "kernelspec": {
   "display_name": "Python 3",
   "language": "python",
   "name": "python3"
  },
  "language_info": {
   "codemirror_mode": {
    "name": "ipython",
    "version": 3
   },
   "file_extension": ".py",
   "mimetype": "text/x-python",
   "name": "python",
   "nbconvert_exporter": "python",
   "pygments_lexer": "ipython3",
   "version": "3.11.6"
  }
 },
 "nbformat": 4,
 "nbformat_minor": 2
}
