{
 "cells": [
  {
   "cell_type": "markdown",
   "metadata": {},
   "source": [
    "# DTI \n"
   ]
  },
  {
   "cell_type": "markdown",
   "metadata": {},
   "source": [
    "### Import Library"
   ]
  },
  {
   "cell_type": "code",
   "execution_count": 2,
   "metadata": {},
   "outputs": [],
   "source": [
    "import pydicom\n",
    "import matplotlib.pyplot as plt\n",
    "import os\n",
    "import numpy as np\n",
    "import pandas as pd\n",
    "from skimage.io import imread\n",
    "import seaborn as sns\n",
    "from glob import glob\n",
    "import ipywidgets as widgets\n",
    "import scipy.ndimage as ndimage\n",
    "import imageio\n",
    "from skimage.segmentation import clear_border\n",
    "from skimage import measure\n",
    "from skimage.measure import label,regionprops\n",
    "from scipy import ndimage as ndi\n",
    "from scipy.ndimage import measurements, center_of_mass, binary_dilation, zoom\n",
    "import plotly.graph_objects as go\n",
    "import math\n",
    "import openpyxl\n"
   ]
  },
  {
   "cell_type": "markdown",
   "metadata": {},
   "source": [
    "### Define the Mosaic dicom picture fiel and path in .ima format "
   ]
  },
  {
   "cell_type": "code",
   "execution_count": 3,
   "metadata": {},
   "outputs": [
    {
     "data": {
      "text/plain": [
       "71"
      ]
     },
     "execution_count": 3,
     "metadata": {},
     "output_type": "execute_result"
    }
   ],
   "source": [
    "##  Mosaic Picturess  ####\n",
    "\n",
    "mosaic_pictures_files = \"/Applications/tez/tez_data_dti_deneme/TOMRUK_ZAHIDE_DTI/DTI/DIFFUSION_HIGHRES_0009/\" # Our input \n",
    "mosaic_paths = os.listdir(mosaic_pictures_files)\n",
    "mosaic_paths.sort() # Bu sort işlemi aslında çok öneli çünkü biz bu kodu her çalıştırdığımızda aynı sıralamayı veriyor ve bize bir nevi referans oluyor.\n",
    "nSeries = len(mosaic_paths)\n",
    "nSeries"
   ]
  },
  {
   "cell_type": "code",
   "execution_count": 4,
   "metadata": {},
   "outputs": [],
   "source": [
    "GTmp = np.zeros((nSeries, 3))"
   ]
  },
  {
   "cell_type": "markdown",
   "metadata": {},
   "source": [
    "### Slices Information"
   ]
  },
  {
   "cell_type": "code",
   "execution_count": 5,
   "metadata": {},
   "outputs": [],
   "source": [
    "mosaic_picture = pydicom.read_file(mosaic_pictures_files + mosaic_paths[10])\n",
    "a = mosaic_picture.fix_meta_info\n"
   ]
  },
  {
   "cell_type": "code",
   "execution_count": 108,
   "metadata": {},
   "outputs": [],
   "source": [
    "\n",
    "def shape_calculation_slice(mosaic_picture):\n",
    "    \n",
    "    mHeight = mosaic_picture.Rows\n",
    "    mHeight = int(mHeight)\n",
    "    mWidth = mosaic_picture.Columns\n",
    "    mWidth = int(mWidth)\n",
    "\n",
    "\n",
    "    slice_number = mosaic_picture[0x019, 0x100a]\n",
    "    slice_number = str(slice_number)\n",
    "    index = slice_number.find(\":\")\n",
    "    slice_number = slice_number[index+2:]\n",
    "    slice_number = int(slice_number)\n",
    "\n",
    "    height = int(mHeight / math.sqrt(slice_number))\n",
    "    width =int(mWidth / math.sqrt(slice_number))\n",
    "\n",
    "    return slice_number, height, width\n",
    "\n"
   ]
  },
  {
   "cell_type": "code",
   "execution_count": 109,
   "metadata": {},
   "outputs": [
    {
     "data": {
      "text/plain": [
       "(64, 128, 128)"
      ]
     },
     "execution_count": 109,
     "metadata": {},
     "output_type": "execute_result"
    }
   ],
   "source": [
    "slice_number, height, width = shape_calculation_slice(mosaic_picture)\n",
    "\n",
    "\n",
    "slice_number, height, width"
   ]
  },
  {
   "cell_type": "markdown",
   "metadata": {},
   "source": [
    "### Spliting Mosaic pictures"
   ]
  },
  {
   "cell_type": "code",
   "execution_count": 8,
   "metadata": {},
   "outputs": [],
   "source": [
    "def split_slice(path):\n",
    "    \"\"\"\n",
    "    Split the only one mosaic pictures\n",
    "    \"\"\"\n",
    "    liste = []\n",
    "    \n",
    "    mosaic_picture = pydicom.read_file(path)\n",
    "    b_val = mosaic_picture[0x019, 0x100c] # B değerini veriyor ama sayısal veri vermiyor \n",
    "    str_b_value = str(b_val)\n",
    "    index = str_b_value.find(\"'\")\n",
    "    selected = str_b_value[index+1:len(str_b_value)-1]\n",
    "    b_values = int(selected)\n",
    "    mosaic_ndarray = mosaic_picture.pixel_array\n",
    "    \n",
    "    for i in range(8):\n",
    "        for j in range(8):\n",
    "            slice = mosaic_ndarray[i*128:(i*128)+128,j*128:(j*128)+128]\n",
    "            liste.append(slice)\n",
    "            \n",
    "    return  liste, b_values\n",
    "\n",
    "\n"
   ]
  },
  {
   "cell_type": "code",
   "execution_count": 9,
   "metadata": {},
   "outputs": [],
   "source": [
    "mosaic_slices, b_val = split_slice(mosaic_pictures_files + mosaic_paths[12])"
   ]
  },
  {
   "cell_type": "code",
   "execution_count": 10,
   "metadata": {},
   "outputs": [
    {
     "data": {
      "text/plain": [
       "700"
      ]
     },
     "execution_count": 10,
     "metadata": {},
     "output_type": "execute_result"
    }
   ],
   "source": [
    "b_val"
   ]
  },
  {
   "cell_type": "code",
   "execution_count": 11,
   "metadata": {},
   "outputs": [],
   "source": [
    "\n",
    "def all_mosaic_split(mosaic_pictures_files):\n",
    "    \"\"\"\n",
    "    Split the all mosaic slices in given files\n",
    "    \"\"\" \n",
    "\n",
    "    mosaic_paths = os.listdir(mosaic_pictures_files)\n",
    "    mosaic_paths.sort()\n",
    "\n",
    "    all_mosaic_slices = []\n",
    "    b_values = []\n",
    "\n",
    "    for k in mosaic_paths:\n",
    "        mosaic_slices, b_val = split_slice(mosaic_pictures_files + k)\n",
    "        \n",
    "        mosaic_slices = np.array(mosaic_slices)\n",
    "        all_mosaic_slices.append(mosaic_slices)\n",
    "        b_values.append(b_val)\n",
    "    \n",
    "    b_values = np.array(b_values)\n",
    "    all_mosaic_slices = np.array(all_mosaic_slices)\n",
    "\n",
    "    return all_mosaic_slices, b_values\n"
   ]
  },
  {
   "cell_type": "code",
   "execution_count": 38,
   "metadata": {},
   "outputs": [],
   "source": [
    "all_mosaic_slices, b_values = all_mosaic_split(mosaic_pictures_files)"
   ]
  },
  {
   "cell_type": "code",
   "execution_count": 39,
   "metadata": {},
   "outputs": [
    {
     "data": {
      "text/plain": [
       "(71, 64, 128, 128)"
      ]
     },
     "execution_count": 39,
     "metadata": {},
     "output_type": "execute_result"
    }
   ],
   "source": [
    "all_mosaic_slices.shape"
   ]
  },
  {
   "cell_type": "code",
   "execution_count": 40,
   "metadata": {},
   "outputs": [
    {
     "data": {
      "text/plain": [
       "array([  0,   0,   0,   0,   0,   0,   0,   0,   0,   0, 700, 700, 700,\n",
       "       700, 700, 700, 700, 700, 700, 700, 700, 700, 700, 700, 700, 700,\n",
       "       700, 700, 700, 700, 700, 700, 700, 700, 700, 700, 700, 700, 700,\n",
       "       700, 700, 700, 700, 700, 700, 700, 700, 700, 700, 700, 700, 700,\n",
       "       700, 700, 700, 700, 700, 700, 700, 700, 700, 700, 700, 700, 700,\n",
       "       700, 700, 700, 700, 700,   0])"
      ]
     },
     "execution_count": 40,
     "metadata": {},
     "output_type": "execute_result"
    }
   ],
   "source": [
    "b_values"
   ]
  },
  {
   "cell_type": "code",
   "execution_count": 41,
   "metadata": {},
   "outputs": [
    {
     "data": {
      "text/plain": [
       "(71,)"
      ]
     },
     "execution_count": 41,
     "metadata": {},
     "output_type": "execute_result"
    }
   ],
   "source": [
    "b_values.shape"
   ]
  },
  {
   "cell_type": "code",
   "execution_count": 18,
   "metadata": {},
   "outputs": [],
   "source": [
    "def diffusion_gradient_direction(mosaic_pictures_files):\n",
    "    \"\"\"\n",
    "    Get the diffusion_gradient_direction from image info\n",
    "    \"\"\" \n",
    "\n",
    "    xyz_list = []\n",
    "    x = []\n",
    "    y = []\n",
    "    z = []\n",
    "\n",
    "    mosaic_paths = os.listdir(mosaic_pictures_files)\n",
    "    mosaic_paths.sort()\n",
    "\n",
    "\n",
    "    for path in mosaic_paths:\n",
    "\n",
    "        mosaic_picture = pydicom.read_file(mosaic_pictures_files + path)\n",
    "        b_val = mosaic_picture[0x019, 0x100c] # B değerini veriyor ama sayısal veri vermiyor  \n",
    "        str_b_value = str(b_val)\n",
    "        index = str_b_value.find(\"'\")\n",
    "        values_int = int(str_b_value[index+1:len(str_b_value)-1])\n",
    "\n",
    "        if values_int == 0:\n",
    "            x.append(np.nan)\n",
    "            y.append(np.nan)\n",
    "            z.append(np.nan)\n",
    "            xyz_list.append(np.nan)\n",
    "\n",
    "        elif values_int > 0:\n",
    "            dgd = mosaic_picture[0x019, 0x100e]\n",
    "            dgd_str = str(dgd)\n",
    "            index=dgd_str.find(\"FD:\")\n",
    "            index_1 = dgd_str.find(\"[\", index)\n",
    "            index_2 = dgd_str.find(\",\", index_1)\n",
    "            index_3 = dgd_str.find(\",\", index_2+1)\n",
    "            index_4 = dgd_str.find(\"]\", index_3)\n",
    "\n",
    "            x_value = np.array(float(dgd_str[index_1+1:index_2]))\n",
    "            y_value = np.array(float(dgd_str[index_2+1:index_3]))\n",
    "            z_value = np.array(float(dgd_str[index_3+1:index_4]))\n",
    "\n",
    "            x.append(x_value)\n",
    "            y.append(y_value)\n",
    "            z.append(z_value)\n",
    "\n",
    "        else:\n",
    "            print(\"Wrong diffusion_gradient_direction information, Should control your code\")\n",
    "            break\n",
    "\n",
    "        \n",
    "    x = np.array(x)\n",
    "    y = np.array(y)\n",
    "    z = np.array(z)\n",
    "    \n",
    "    return (x,y,z) "
   ]
  },
  {
   "cell_type": "code",
   "execution_count": 19,
   "metadata": {},
   "outputs": [],
   "source": [
    "x,y,z = diffusion_gradient_direction(mosaic_pictures_files)\n"
   ]
  },
  {
   "cell_type": "markdown",
   "metadata": {},
   "source": [
    "### Burda Zahide Tomruk için kendimiz elle b0 değerlerini ayırdık çünkü elde ettiğimiz b0 verileri liste içinde elde edebildik bilgisiyarda bunu ayıramadık"
   ]
  },
  {
   "cell_type": "markdown",
   "metadata": {},
   "source": [
    "### B0 ve DWI ların  ayrılması\n"
   ]
  },
  {
   "cell_type": "code",
   "execution_count": 20,
   "metadata": {},
   "outputs": [],
   "source": [
    "def b_values_divider(all_mosaic_slices, b_values):\n",
    "\n",
    "    b0_index = []\n",
    "    b0_mosaic_slicess = []\n",
    "    b0_mosaic_slicess = np.array(b0_mosaic_slicess)\n",
    "\n",
    "    dwi_index = []\n",
    "    dwi_mosaic_slicess = []\n",
    "    dwi_mosaic_slicess = np.array(dwi_mosaic_slicess)\n",
    "\n",
    "    num = 0\n",
    "\n",
    "    for i in b_values:\n",
    "\n",
    "        if i == 0:\n",
    "            b0_index.append(num)\n",
    "        elif i > 0:\n",
    "            dwi_index.append(num)\n",
    "        else:\n",
    "            print(\"Hatalı Değer B_values negatif bir değer alamaz\")\n",
    "            \n",
    "        \n",
    "        num = num + 1\n",
    "    \n",
    "    b0_index = np.array(b0_index)\n",
    "    dwi_index = np.array(dwi_index)\n",
    "\n",
    "    b0_mosaic_slicess = all_mosaic_slices[b0_index]\n",
    "    dwi_mosaic_slicess = all_mosaic_slices[dwi_index]\n",
    "\n",
    "    return b0_mosaic_slicess, dwi_mosaic_slicess, (b0_index,dwi_index)"
   ]
  },
  {
   "cell_type": "code",
   "execution_count": 21,
   "metadata": {},
   "outputs": [],
   "source": [
    "b0_mosaic_slicess, dwi_mosaic_slicess, (b0_index,dwi_index) = b_values_divider(all_mosaic_slices, b_values)"
   ]
  },
  {
   "cell_type": "code",
   "execution_count": 22,
   "metadata": {},
   "outputs": [],
   "source": [
    "b0_mosaic_slicess, dwi_mosaic_slicess, index = b_values_divider(all_mosaic_slices, b_values)"
   ]
  },
  {
   "cell_type": "code",
   "execution_count": 23,
   "metadata": {},
   "outputs": [
    {
     "data": {
      "text/plain": [
       "(11, 64, 128, 128)"
      ]
     },
     "execution_count": 23,
     "metadata": {},
     "output_type": "execute_result"
    }
   ],
   "source": [
    "b0_mosaic_slicess.shape"
   ]
  },
  {
   "cell_type": "code",
   "execution_count": 30,
   "metadata": {},
   "outputs": [
    {
     "data": {
      "text/plain": [
       "(60, 64, 128, 128)"
      ]
     },
     "execution_count": 30,
     "metadata": {},
     "output_type": "execute_result"
    }
   ],
   "source": [
    "dwi_mosaic_slicess.shape"
   ]
  },
  {
   "cell_type": "markdown",
   "metadata": {},
   "source": [
    "#### Index\n",
    "Burdaki index verilerimiz bizim sırasıyla aldığımız path den dicom infolarına göre b değerlerinin hangi indexlerde 0 hangilerinde difüzyon olduğunu beliritiyor."
   ]
  },
  {
   "cell_type": "code",
   "execution_count": 24,
   "metadata": {},
   "outputs": [
    {
     "data": {
      "text/plain": [
       "(array([ 0,  1,  2,  3,  4,  5,  6,  7,  8,  9, 70]),\n",
       " array([10, 11, 12, 13, 14, 15, 16, 17, 18, 19, 20, 21, 22, 23, 24, 25, 26,\n",
       "        27, 28, 29, 30, 31, 32, 33, 34, 35, 36, 37, 38, 39, 40, 41, 42, 43,\n",
       "        44, 45, 46, 47, 48, 49, 50, 51, 52, 53, 54, 55, 56, 57, 58, 59, 60,\n",
       "        61, 62, 63, 64, 65, 66, 67, 68, 69]))"
      ]
     },
     "execution_count": 24,
     "metadata": {},
     "output_type": "execute_result"
    }
   ],
   "source": [
    "index"
   ]
  },
  {
   "cell_type": "markdown",
   "metadata": {},
   "source": [
    "### B0 değerlerinin ortalamasını alma"
   ]
  },
  {
   "cell_type": "code",
   "execution_count": 25,
   "metadata": {},
   "outputs": [],
   "source": [
    "def b0_avarager(b0_slicess):\n",
    "    # all b=0 values mosaic picturees average \n",
    "    # 4 dimentional data take average from [11,64,128,128] to [1,64,128,128]\n",
    "    \n",
    "    average_slices = [] \n",
    "\n",
    "    for i in range(len(b0_slicess[1])):\n",
    "        img = np.zeros((128,128))\n",
    "        \n",
    "        for k in range(len(b0_slicess)):\n",
    "            b0_img = b0_slicess[k,i,:,:]\n",
    "            img = b0_img + img\n",
    "\n",
    "        img = img / len(b0_slicess) \n",
    "        average_slices.append(img)\n",
    "\n",
    "\n",
    "    average_slices = np.array(average_slices)\n",
    "\n",
    "    return average_slices"
   ]
  },
  {
   "cell_type": "code",
   "execution_count": 26,
   "metadata": {},
   "outputs": [],
   "source": [
    "b0_average_mosaic_slice = b0_avarager(b0_mosaic_slicess)"
   ]
  },
  {
   "cell_type": "code",
   "execution_count": 27,
   "metadata": {},
   "outputs": [
    {
     "data": {
      "text/plain": [
       "(64, 128, 128)"
      ]
     },
     "execution_count": 27,
     "metadata": {},
     "output_type": "execute_result"
    }
   ],
   "source": [
    "b0_average_mosaic_slice.shape"
   ]
  },
  {
   "cell_type": "code",
   "execution_count": 28,
   "metadata": {},
   "outputs": [
    {
     "data": {
      "application/vnd.jupyter.widget-view+json": {
       "model_id": "d84353f61a9d4a99aa2e98be602d68d8",
       "version_major": 2,
       "version_minor": 0
      },
      "text/plain": [
       "interactive(children=(IntSlider(value=50, description='axial_slice', max=63), Output()), _dom_classes=('widget…"
      ]
     },
     "metadata": {},
     "output_type": "display_data"
    }
   ],
   "source": [
    "m0,m1,m2 = b0_average_mosaic_slice.shape\n",
    "# Add a slider that starts with 0 and ends at the number of\n",
    "# slices along the axial plane, n0=99.\n",
    "@widgets.interact(axial_slice=(0,m0-1))\n",
    "# Define the function that shows the images of the specified slice number.\n",
    "# It starts with the 10th slice. And you can scroll over any slice\n",
    "# using the slider.\n",
    "\n",
    "def axial_slicer(axial_slice=50):\n",
    "  \n",
    "  # Show the image of the specified slice number in 'gray' color-map\n",
    "  # and axial aspect ratio\n",
    "  \n",
    "  plt.imshow(b0_average_mosaic_slice[axial_slice,:,:])\n",
    "  #plt.imshow(mosaic_pictures_vol[axial_slice,:,:], cmap='hot')\n",
    "  #plt.imshow(mosaic_pictures_vol[axial_slice,:,:], cmap='RdBu')\n",
    "\n",
    "\n",
    "  # Don't show the axis\n",
    "  plt.axis('off')\n",
    "  plt.title(\"Average b=0 Brain Slices\")"
   ]
  },
  {
   "cell_type": "markdown",
   "metadata": {},
   "source": [
    "### "
   ]
  },
  {
   "cell_type": "code",
   "execution_count": 29,
   "metadata": {},
   "outputs": [
    {
     "data": {
      "text/html": [
       "<div>\n",
       "<style scoped>\n",
       "    .dataframe tbody tr th:only-of-type {\n",
       "        vertical-align: middle;\n",
       "    }\n",
       "\n",
       "    .dataframe tbody tr th {\n",
       "        vertical-align: top;\n",
       "    }\n",
       "\n",
       "    .dataframe thead th {\n",
       "        text-align: right;\n",
       "    }\n",
       "</style>\n",
       "<table border=\"1\" class=\"dataframe\">\n",
       "  <thead>\n",
       "    <tr style=\"text-align: right;\">\n",
       "      <th></th>\n",
       "      <th>Mosaic_Paths</th>\n",
       "      <th>Mosaic_slices</th>\n",
       "      <th>B_values</th>\n",
       "      <th>Gradient_Infromation_X</th>\n",
       "      <th>Gradient_Infromation_Y</th>\n",
       "      <th>Gradient_Infromation_Z</th>\n",
       "    </tr>\n",
       "  </thead>\n",
       "  <tbody>\n",
       "    <tr>\n",
       "      <th>0</th>\n",
       "      <td>TOMRUK_ZAHIDE.MR.HD_MYELIN.0009.0001.2023.05.2...</td>\n",
       "      <td>[[[0, 1, 5, 3, 2, 2, 2, 3, 6, 2, 1, 7, 4, 2, 4...</td>\n",
       "      <td>0</td>\n",
       "      <td>NaN</td>\n",
       "      <td>NaN</td>\n",
       "      <td>NaN</td>\n",
       "    </tr>\n",
       "    <tr>\n",
       "      <th>1</th>\n",
       "      <td>TOMRUK_ZAHIDE.MR.HD_MYELIN.0009.0002.2023.05.2...</td>\n",
       "      <td>[[[0, 0, 4, 3, 0, 2, 0, 1, 0, 0, 1, 3, 5, 5, 2...</td>\n",
       "      <td>0</td>\n",
       "      <td>NaN</td>\n",
       "      <td>NaN</td>\n",
       "      <td>NaN</td>\n",
       "    </tr>\n",
       "    <tr>\n",
       "      <th>2</th>\n",
       "      <td>TOMRUK_ZAHIDE.MR.HD_MYELIN.0009.0003.2023.05.2...</td>\n",
       "      <td>[[[0, 4, 1, 2, 0, 4, 3, 5, 3, 1, 2, 0, 1, 1, 3...</td>\n",
       "      <td>0</td>\n",
       "      <td>NaN</td>\n",
       "      <td>NaN</td>\n",
       "      <td>NaN</td>\n",
       "    </tr>\n",
       "    <tr>\n",
       "      <th>3</th>\n",
       "      <td>TOMRUK_ZAHIDE.MR.HD_MYELIN.0009.0004.2023.05.2...</td>\n",
       "      <td>[[[0, 4, 2, 2, 3, 5, 2, 2, 5, 1, 2, 3, 2, 1, 3...</td>\n",
       "      <td>0</td>\n",
       "      <td>NaN</td>\n",
       "      <td>NaN</td>\n",
       "      <td>NaN</td>\n",
       "    </tr>\n",
       "    <tr>\n",
       "      <th>4</th>\n",
       "      <td>TOMRUK_ZAHIDE.MR.HD_MYELIN.0009.0005.2023.05.2...</td>\n",
       "      <td>[[[0, 2, 4, 1, 0, 4, 2, 0, 2, 5, 3, 2, 4, 5, 0...</td>\n",
       "      <td>0</td>\n",
       "      <td>NaN</td>\n",
       "      <td>NaN</td>\n",
       "      <td>NaN</td>\n",
       "    </tr>\n",
       "    <tr>\n",
       "      <th>...</th>\n",
       "      <td>...</td>\n",
       "      <td>...</td>\n",
       "      <td>...</td>\n",
       "      <td>...</td>\n",
       "      <td>...</td>\n",
       "      <td>...</td>\n",
       "    </tr>\n",
       "    <tr>\n",
       "      <th>66</th>\n",
       "      <td>TOMRUK_ZAHIDE.MR.HD_MYELIN.0009.0067.2023.05.2...</td>\n",
       "      <td>[[[0, 4, 1, 1, 6, 5, 2, 3, 2, 2, 3, 6, 5, 3, 3...</td>\n",
       "      <td>700</td>\n",
       "      <td>0.734374</td>\n",
       "      <td>0.616424</td>\n",
       "      <td>0.284108</td>\n",
       "    </tr>\n",
       "    <tr>\n",
       "      <th>67</th>\n",
       "      <td>TOMRUK_ZAHIDE.MR.HD_MYELIN.0009.0068.2023.05.2...</td>\n",
       "      <td>[[[0, 6, 6, 1, 3, 2, 2, 2, 2, 3, 1, 1, 7, 0, 3...</td>\n",
       "      <td>700</td>\n",
       "      <td>-0.986654</td>\n",
       "      <td>0.151999</td>\n",
       "      <td>0.058401</td>\n",
       "    </tr>\n",
       "    <tr>\n",
       "      <th>68</th>\n",
       "      <td>TOMRUK_ZAHIDE.MR.HD_MYELIN.0009.0069.2023.05.2...</td>\n",
       "      <td>[[[0, 1, 1, 1, 1, 4, 2, 2, 3, 10, 4, 0, 2, 1, ...</td>\n",
       "      <td>700</td>\n",
       "      <td>0.527112</td>\n",
       "      <td>-0.811320</td>\n",
       "      <td>-0.252811</td>\n",
       "    </tr>\n",
       "    <tr>\n",
       "      <th>69</th>\n",
       "      <td>TOMRUK_ZAHIDE.MR.HD_MYELIN.0009.0070.2023.05.2...</td>\n",
       "      <td>[[[0, 5, 2, 5, 1, 6, 5, 1, 2, 3, 3, 3, 4, 1, 4...</td>\n",
       "      <td>700</td>\n",
       "      <td>0.663161</td>\n",
       "      <td>-0.479499</td>\n",
       "      <td>-0.574716</td>\n",
       "    </tr>\n",
       "    <tr>\n",
       "      <th>70</th>\n",
       "      <td>Tomruk.DIFFUSION_HighRes.09.001.IMA</td>\n",
       "      <td>[[[0, 1, 5, 3, 2, 2, 2, 3, 6, 2, 1, 7, 4, 2, 4...</td>\n",
       "      <td>0</td>\n",
       "      <td>NaN</td>\n",
       "      <td>NaN</td>\n",
       "      <td>NaN</td>\n",
       "    </tr>\n",
       "  </tbody>\n",
       "</table>\n",
       "<p>71 rows × 6 columns</p>\n",
       "</div>"
      ],
      "text/plain": [
       "                                         Mosaic_Paths  \\\n",
       "0   TOMRUK_ZAHIDE.MR.HD_MYELIN.0009.0001.2023.05.2...   \n",
       "1   TOMRUK_ZAHIDE.MR.HD_MYELIN.0009.0002.2023.05.2...   \n",
       "2   TOMRUK_ZAHIDE.MR.HD_MYELIN.0009.0003.2023.05.2...   \n",
       "3   TOMRUK_ZAHIDE.MR.HD_MYELIN.0009.0004.2023.05.2...   \n",
       "4   TOMRUK_ZAHIDE.MR.HD_MYELIN.0009.0005.2023.05.2...   \n",
       "..                                                ...   \n",
       "66  TOMRUK_ZAHIDE.MR.HD_MYELIN.0009.0067.2023.05.2...   \n",
       "67  TOMRUK_ZAHIDE.MR.HD_MYELIN.0009.0068.2023.05.2...   \n",
       "68  TOMRUK_ZAHIDE.MR.HD_MYELIN.0009.0069.2023.05.2...   \n",
       "69  TOMRUK_ZAHIDE.MR.HD_MYELIN.0009.0070.2023.05.2...   \n",
       "70                Tomruk.DIFFUSION_HighRes.09.001.IMA   \n",
       "\n",
       "                                        Mosaic_slices  B_values  \\\n",
       "0   [[[0, 1, 5, 3, 2, 2, 2, 3, 6, 2, 1, 7, 4, 2, 4...         0   \n",
       "1   [[[0, 0, 4, 3, 0, 2, 0, 1, 0, 0, 1, 3, 5, 5, 2...         0   \n",
       "2   [[[0, 4, 1, 2, 0, 4, 3, 5, 3, 1, 2, 0, 1, 1, 3...         0   \n",
       "3   [[[0, 4, 2, 2, 3, 5, 2, 2, 5, 1, 2, 3, 2, 1, 3...         0   \n",
       "4   [[[0, 2, 4, 1, 0, 4, 2, 0, 2, 5, 3, 2, 4, 5, 0...         0   \n",
       "..                                                ...       ...   \n",
       "66  [[[0, 4, 1, 1, 6, 5, 2, 3, 2, 2, 3, 6, 5, 3, 3...       700   \n",
       "67  [[[0, 6, 6, 1, 3, 2, 2, 2, 2, 3, 1, 1, 7, 0, 3...       700   \n",
       "68  [[[0, 1, 1, 1, 1, 4, 2, 2, 3, 10, 4, 0, 2, 1, ...       700   \n",
       "69  [[[0, 5, 2, 5, 1, 6, 5, 1, 2, 3, 3, 3, 4, 1, 4...       700   \n",
       "70  [[[0, 1, 5, 3, 2, 2, 2, 3, 6, 2, 1, 7, 4, 2, 4...         0   \n",
       "\n",
       "    Gradient_Infromation_X  Gradient_Infromation_Y  Gradient_Infromation_Z  \n",
       "0                      NaN                     NaN                     NaN  \n",
       "1                      NaN                     NaN                     NaN  \n",
       "2                      NaN                     NaN                     NaN  \n",
       "3                      NaN                     NaN                     NaN  \n",
       "4                      NaN                     NaN                     NaN  \n",
       "..                     ...                     ...                     ...  \n",
       "66                0.734374                0.616424                0.284108  \n",
       "67               -0.986654                0.151999                0.058401  \n",
       "68                0.527112               -0.811320               -0.252811  \n",
       "69                0.663161               -0.479499               -0.574716  \n",
       "70                     NaN                     NaN                     NaN  \n",
       "\n",
       "[71 rows x 6 columns]"
      ]
     },
     "execution_count": 29,
     "metadata": {},
     "output_type": "execute_result"
    }
   ],
   "source": [
    "data_mosaic = {\"Mosaic_Paths\":mosaic_paths, \"Mosaic_slices\": list(all_mosaic_slices), \"B_values\":b_values, \"Gradient_Infromation_X\":x, \"Gradient_Infromation_Y\":y , \"Gradient_Infromation_Z\":z}\n",
    "information_mosaic_dataFrame = pd.DataFrame(data_mosaic)\n",
    "information_mosaic_dataFrame"
   ]
  },
  {
   "cell_type": "code",
   "execution_count": 31,
   "metadata": {},
   "outputs": [],
   "source": [
    "information_mosaic_dataFrame.to_excel('/Applications/tez/kodlarım/python_code/DTI/Tomruk_zahide_Mosaci_data_info.xlsx')"
   ]
  },
  {
   "cell_type": "code",
   "execution_count": 32,
   "metadata": {},
   "outputs": [
    {
     "data": {
      "text/plain": [
       "0     TOMRUK_ZAHIDE.MR.HD_MYELIN.0009.0001.2023.05.2...\n",
       "1     TOMRUK_ZAHIDE.MR.HD_MYELIN.0009.0002.2023.05.2...\n",
       "2     TOMRUK_ZAHIDE.MR.HD_MYELIN.0009.0003.2023.05.2...\n",
       "3     TOMRUK_ZAHIDE.MR.HD_MYELIN.0009.0004.2023.05.2...\n",
       "4     TOMRUK_ZAHIDE.MR.HD_MYELIN.0009.0005.2023.05.2...\n",
       "                            ...                        \n",
       "66    TOMRUK_ZAHIDE.MR.HD_MYELIN.0009.0067.2023.05.2...\n",
       "67    TOMRUK_ZAHIDE.MR.HD_MYELIN.0009.0068.2023.05.2...\n",
       "68    TOMRUK_ZAHIDE.MR.HD_MYELIN.0009.0069.2023.05.2...\n",
       "69    TOMRUK_ZAHIDE.MR.HD_MYELIN.0009.0070.2023.05.2...\n",
       "70                  Tomruk.DIFFUSION_HighRes.09.001.IMA\n",
       "Name: Mosaic_Paths, Length: 71, dtype: object"
      ]
     },
     "execution_count": 32,
     "metadata": {},
     "output_type": "execute_result"
    }
   ],
   "source": [
    "information_mosaic_dataFrame[\"Mosaic_Paths\"]"
   ]
  },
  {
   "cell_type": "code",
   "execution_count": 53,
   "metadata": {},
   "outputs": [
    {
     "data": {
      "text/plain": [
       "numpy.float64"
      ]
     },
     "execution_count": 53,
     "metadata": {},
     "output_type": "execute_result"
    }
   ],
   "source": [
    "x_gradiants = information_mosaic_dataFrame[\"Gradient_Infromation_X\"][23]\n",
    "type(x_gradiants)"
   ]
  },
  {
   "cell_type": "code",
   "execution_count": 34,
   "metadata": {},
   "outputs": [
    {
     "data": {
      "text/plain": [
       "(64, 128, 128)"
      ]
     },
     "execution_count": 34,
     "metadata": {},
     "output_type": "execute_result"
    }
   ],
   "source": [
    "img1 = all_mosaic_slices[1]\n",
    "img1.shape"
   ]
  },
  {
   "cell_type": "code",
   "execution_count": 102,
   "metadata": {},
   "outputs": [
    {
     "data": {
      "text/plain": [
       "(64, 128, 128)"
      ]
     },
     "execution_count": 102,
     "metadata": {},
     "output_type": "execute_result"
    }
   ],
   "source": [
    "vol_image, b_value = split_slice(mosaic_pictures_files+information_mosaic_dataFrame[\"Mosaic_Paths\"][70])\n",
    "vol_image = np.array(vol_image)\n",
    "vol_image.shape"
   ]
  },
  {
   "cell_type": "code",
   "execution_count": 103,
   "metadata": {},
   "outputs": [
    {
     "data": {
      "text/plain": [
       "<matplotlib.image.AxesImage at 0x2ba52b9d0>"
      ]
     },
     "execution_count": 103,
     "metadata": {},
     "output_type": "execute_result"
    },
    {
     "data": {
      "image/png": "[encoded data removed]",
      "text/plain": [
       "<Figure size 640x480 with 1 Axes>"
      ]
     },
     "metadata": {},
     "output_type": "display_data"
    }
   ],
   "source": [
    "plt.imshow(vol_image[34])"
   ]
  },
  {
   "cell_type": "code",
   "execution_count": 45,
   "metadata": {},
   "outputs": [
    {
     "data": {
      "text/plain": [
       "0"
      ]
     },
     "execution_count": 45,
     "metadata": {},
     "output_type": "execute_result"
    }
   ],
   "source": [
    "b_value"
   ]
  },
  {
   "cell_type": "markdown",
   "metadata": {},
   "source": [
    "### TRACE  Weighted image calculation\n",
    "traceIMG = single(nthroot(prod(double(tdtIMG), 3), nDir));\n",
    "    traceIMG(isinf(traceIMG)) = 0;\n",
    "    clear tdtIMG;"
   ]
  },
  {
   "cell_type": "code",
   "execution_count": null,
   "metadata": {},
   "outputs": [
    {
     "data": {
      "text/plain": [
       "(60, 64, 128, 128)"
      ]
     },
     "execution_count": 23,
     "metadata": {},
     "output_type": "execute_result"
    }
   ],
   "source": [
    "t_dwi = dwi_mosaic_slicess.copy()\n",
    "t_dwi.shape"
   ]
  },
  {
   "cell_type": "code",
   "execution_count": null,
   "metadata": {},
   "outputs": [],
   "source": [
    "t_dwi_new = t_dwi[1] * t_dwi[0]"
   ]
  },
  {
   "cell_type": "code",
   "execution_count": null,
   "metadata": {},
   "outputs": [
    {
     "data": {
      "text/plain": [
       "(64, 128, 128)"
      ]
     },
     "execution_count": 25,
     "metadata": {},
     "output_type": "execute_result"
    }
   ],
   "source": [
    "t_dwi_new.shape"
   ]
  },
  {
   "cell_type": "markdown",
   "metadata": {},
   "source": [
    "ilk önce (60, 64, 128, 128) datamızı ilk arraye göre çarpacağız\n",
    "sonra (1, 64, 128, 128) boytulu data elde edeceğiz."
   ]
  },
  {
   "cell_type": "code",
   "execution_count": 95,
   "metadata": {},
   "outputs": [
    {
     "data": {
      "text/plain": [
       "(60, 64, 128, 128)"
      ]
     },
     "execution_count": 95,
     "metadata": {},
     "output_type": "execute_result"
    }
   ],
   "source": [
    "dwi_mosaic_slicess.shape"
   ]
  },
  {
   "cell_type": "code",
   "execution_count": 96,
   "metadata": {},
   "outputs": [
    {
     "data": {
      "text/plain": [
       "array([10, 11, 12, 13, 14, 15, 16, 17, 18, 19, 20, 21, 22, 23, 24, 25, 26,\n",
       "       27, 28, 29, 30, 31, 32, 33, 34, 35, 36, 37, 38, 39, 40, 41, 42, 43,\n",
       "       44, 45, 46, 47, 48, 49, 50, 51, 52, 53, 54, 55, 56, 57, 58, 59, 60,\n",
       "       61, 62, 63, 64, 65, 66, 67, 68, 69])"
      ]
     },
     "execution_count": 96,
     "metadata": {},
     "output_type": "execute_result"
    }
   ],
   "source": [
    "dwi_index"
   ]
  },
  {
   "cell_type": "code",
   "execution_count": 94,
   "metadata": {},
   "outputs": [
    {
     "data": {
      "text/plain": [
       "(11, 64, 128, 128)"
      ]
     },
     "execution_count": 94,
     "metadata": {},
     "output_type": "execute_result"
    }
   ],
   "source": [
    "b0_mosaic_slicess.shape"
   ]
  },
  {
   "cell_type": "code",
   "execution_count": 97,
   "metadata": {},
   "outputs": [
    {
     "data": {
      "text/plain": [
       "array([ 0,  1,  2,  3,  4,  5,  6,  7,  8,  9, 70])"
      ]
     },
     "execution_count": 97,
     "metadata": {},
     "output_type": "execute_result"
    }
   ],
   "source": [
    "b0_index"
   ]
  },
  {
   "cell_type": "markdown",
   "metadata": {},
   "source": [
    "## G"
   ]
  },
  {
   "cell_type": "code",
   "execution_count": 61,
   "metadata": {},
   "outputs": [],
   "source": [
    "G = np.zeros((len(dwi_index), 3))"
   ]
  },
  {
   "cell_type": "code",
   "execution_count": 66,
   "metadata": {},
   "outputs": [
    {
     "data": {
      "text/plain": [
       "(60, 3)"
      ]
     },
     "execution_count": 66,
     "metadata": {},
     "output_type": "execute_result"
    }
   ],
   "source": [
    "G.shape"
   ]
  },
  {
   "cell_type": "code",
   "execution_count": 59,
   "metadata": {},
   "outputs": [],
   "source": [
    "G[0,:] = [1, 2, 3]"
   ]
  },
  {
   "cell_type": "code",
   "execution_count": 104,
   "metadata": {},
   "outputs": [
    {
     "data": {
      "text/plain": [
       "0       0\n",
       "1       0\n",
       "2       0\n",
       "3       0\n",
       "4       0\n",
       "     ... \n",
       "66    700\n",
       "67    700\n",
       "68    700\n",
       "69    700\n",
       "70      0\n",
       "Name: B_values, Length: 71, dtype: int64"
      ]
     },
     "execution_count": 104,
     "metadata": {},
     "output_type": "execute_result"
    }
   ],
   "source": [
    "information_mosaic_dataFrame[\"B_values\"]"
   ]
  },
  {
   "cell_type": "code",
   "execution_count": 80,
   "metadata": {},
   "outputs": [
    {
     "data": {
      "text/plain": [
       "numpy.int64"
      ]
     },
     "execution_count": 80,
     "metadata": {},
     "output_type": "execute_result"
    }
   ],
   "source": [
    "type(information_mosaic_dataFrame[\"B_values\"][2])"
   ]
  },
  {
   "cell_type": "code",
   "execution_count": 86,
   "metadata": {},
   "outputs": [],
   "source": [
    "k = 0\n",
    "for i in range(len(information_mosaic_dataFrame[\"B_values\"])):\n",
    "    \n",
    "    if information_mosaic_dataFrame[\"B_values\"][i] > 40:\n",
    "        G[k,:] = [information_mosaic_dataFrame[\"Gradient_Infromation_X\"][i], information_mosaic_dataFrame[\"Gradient_Infromation_Y\"][i], information_mosaic_dataFrame[\"Gradient_Infromation_Z\"][i]]\n",
    "        k += 1 \n",
    "\n",
    "    elif information_mosaic_dataFrame[\"B_values\"][i] < 40:\n",
    "        continue\n",
    "    else:\n",
    "        print(\"Hacı yanlış bişey yaptın\")\n"
   ]
  },
  {
   "cell_type": "code",
   "execution_count": 264,
   "metadata": {},
   "outputs": [
    {
     "data": {
      "text/plain": [
       "array([[ 0.99995732,  0.00722241, -0.00577336],\n",
       "       [ 0.58759272,  0.38297507,  0.71278679],\n",
       "       [ 0.8965317 , -0.02854692, -0.44205895],\n",
       "       [ 0.72978765,  0.41743058, -0.54144382],\n",
       "       [-0.15357843, -0.9659242 ,  0.20833591],\n",
       "       [ 0.1154791 , -0.77909619,  0.61617678],\n",
       "       [-0.40731779,  0.42209205,  0.80989528],\n",
       "       [ 0.20964164, -0.75925261, -0.61610538],\n",
       "       [ 0.09406538,  0.97146386, -0.2177376 ],\n",
       "       [-0.13525505,  0.03833704,  0.99006891],\n",
       "       [-0.14142175,  0.75595856,  0.63916063],\n",
       "       [-0.63496637, -0.74955851,  0.18702853],\n",
       "       [ 0.07897826, -0.97358137, -0.21424671],\n",
       "       [ 0.1054693 ,  0.02638658, -0.99407232],\n",
       "       [ 0.29786617, -0.39442536, -0.8693127 ],\n",
       "       [-0.20660225,  0.80919403, -0.55001873],\n",
       "       [ 0.33174726,  0.04651222,  0.94222099],\n",
       "       [-0.80234665,  0.59417474,  0.05653624],\n",
       "       [ 0.33637077,  0.7553162 ,  0.56245208],\n",
       "       [ 0.59107906,  0.76523256, -0.2550388 ],\n",
       "       [-0.08791391,  0.47168472, -0.8773737 ],\n",
       "       [-0.5286296 ,  0.43710852, -0.72765845],\n",
       "       [-0.36704591,  0.92848414, -0.05652021],\n",
       "       [ 0.31052339, -0.92832702,  0.2044118 ],\n",
       "       [-0.68455744, -0.44628945,  0.57637399],\n",
       "       [-0.02945306,  0.96831965,  0.24797054],\n",
       "       [-0.33640093, -0.74991071,  0.56962132],\n",
       "       [-0.57620043, -0.03113451,  0.816715  ],\n",
       "       [ 0.27038088,  0.75341898, -0.59937781],\n",
       "       [-0.93597132, -0.19224972, -0.29495364],\n",
       "       [ 0.8889693 , -0.31632683,  0.33116594],\n",
       "       [-0.88634074, -0.0402004 ,  0.46128523],\n",
       "       [ 0.54413128, -0.59240645,  0.59411758],\n",
       "       [-0.3509087 ,  0.02082158, -0.93617821],\n",
       "       [ 0.4139362 ,  0.90256   ,  0.11850004],\n",
       "       [-0.73488247, -0.00831405, -0.67814344],\n",
       "       [-0.73752254, -0.61677247, -0.27504954],\n",
       "       [-0.25606868, -0.41350484,  0.87375194],\n",
       "       [-0.91737121, -0.37884241,  0.12210063],\n",
       "       [-0.25628275, -0.77136087, -0.58251286],\n",
       "       [-0.59017724, -0.44076768, -0.67632431],\n",
       "       [ 0.89226586,  0.19253622,  0.40840122],\n",
       "       [ 0.68091035, -0.14857697,  0.71713722],\n",
       "       [-0.88004303,  0.31625816, -0.35426679],\n",
       "       [-0.62027282,  0.70235932, -0.34921786],\n",
       "       [ 0.89491099,  0.43645099, -0.09297843],\n",
       "       [-0.16187215, -0.42402098, -0.89106876],\n",
       "       [-0.5056119 ,  0.78266448,  0.36303285],\n",
       "       [ 0.10667042,  0.45332572,  0.88493907],\n",
       "       [ 0.8817718 , -0.44159865, -0.16573779],\n",
       "       [ 0.60016322, -0.03531033, -0.79909778],\n",
       "       [ 0.69322979, -0.70245636,  0.16120614],\n",
       "       [-0.39180675, -0.90314347, -0.17555551],\n",
       "       [-0.76141071,  0.40939018,  0.50264639],\n",
       "       [ 0.20992927, -0.40315527,  0.89072758],\n",
       "       [ 0.37632045,  0.38574466, -0.84236825],\n",
       "       [ 0.73437357,  0.61642373,  0.2841078 ],\n",
       "       [-0.98665375,  0.15199882,  0.05840144],\n",
       "       [ 0.52711177, -0.81131971, -0.25281146],\n",
       "       [ 0.66316068, -0.47949922, -0.57471597]])"
      ]
     },
     "execution_count": 264,
     "metadata": {},
     "output_type": "execute_result"
    }
   ],
   "source": [
    "G"
   ]
  },
  {
   "cell_type": "markdown",
   "metadata": {},
   "source": [
    "### B_matrix Creation"
   ]
  },
  {
   "cell_type": "code",
   "execution_count": 278,
   "metadata": {},
   "outputs": [],
   "source": [
    "B = np.zeros((len(dwi_index), 6))"
   ]
  },
  {
   "cell_type": "code",
   "execution_count": 279,
   "metadata": {},
   "outputs": [
    {
     "data": {
      "text/plain": [
       "0.00722241"
      ]
     },
     "execution_count": 279,
     "metadata": {},
     "output_type": "execute_result"
    }
   ],
   "source": [
    "0.00722241"
   ]
  },
  {
   "cell_type": "code",
   "execution_count": 280,
   "metadata": {},
   "outputs": [],
   "source": [
    "B[:,0] = G[:,0] * G[:,0]\n",
    "B[:,1] = 2 * G[:,0] * G[:,1]\n",
    "B[:,2] = 2 * G[:,0] * G[:,2]\n",
    "B[:,3] = G[:,1] * G[:,1]\n",
    "B[:,4] = 2 * G[:,1] * G[:,2]\n",
    "B[:,5] = G[:,2] * G[:,2]\n"
   ]
  },
  {
   "cell_type": "code",
   "execution_count": 281,
   "metadata": {},
   "outputs": [
    {
     "data": {
      "text/plain": [
       "(60, 6)"
      ]
     },
     "execution_count": 281,
     "metadata": {},
     "output_type": "execute_result"
    }
   ],
   "source": [
    "B.shape"
   ]
  },
  {
   "cell_type": "code",
   "execution_count": 284,
   "metadata": {},
   "outputs": [
    {
     "data": {
      "text/plain": [
       "array([[ 9.99914642e-01,  1.44442035e-02, -1.15462272e-02,\n",
       "         5.21632062e-05, -8.33951460e-05,  3.33316857e-05],\n",
       "       [ 3.45265205e-01,  4.50066726e-01,  8.37656657e-01,\n",
       "         1.46669904e-01,  5.45959142e-01,  5.08065008e-01],\n",
       "       [ 8.03769089e-01, -5.11864374e-02, -7.92639724e-01,\n",
       "         8.14926641e-04,  2.52388430e-02,  1.95416115e-01],\n",
       "       [ 5.32590014e-01,  6.09271364e-01, -7.90278026e-01,\n",
       "         1.74248289e-01, -4.52030416e-01,  2.93161410e-01],\n",
       "       [ 2.35863342e-02,  2.96690244e-01, -6.39918039e-02,\n",
       "         9.33009560e-01, -4.02473394e-01,  4.34038514e-02],\n",
       "       [ 1.33354225e-02, -1.79938654e-01,  1.42311080e-01,\n",
       "         6.06990873e-01, -9.60121963e-01,  3.79673824e-01],\n",
       "       [ 1.65907782e-01, -3.43851202e-01, -6.59769511e-01,\n",
       "         1.78161699e-01,  6.83700718e-01,  6.55930365e-01],\n",
       "       [ 4.39496172e-02, -3.18341925e-01, -2.58322685e-01,\n",
       "         5.76464526e-01,  9.35559236e-01,  3.79585839e-01],\n",
       "       [ 8.84829571e-03,  1.82762234e-01, -4.09631402e-02,\n",
       "         9.43742031e-01, -4.23048419e-01,  4.74096625e-02],\n",
       "       [ 1.82939286e-02, -1.03705565e-02, -2.67823640e-01,\n",
       "         1.46972864e-03,  7.59126228e-02,  9.80236447e-01],\n",
       "       [ 2.00001114e-02, -2.13817965e-01, -1.80782430e-01,\n",
       "         5.71473344e-01,  9.66357899e-01,  4.08526311e-01],\n",
       "       [ 4.03182291e-01,  9.51888892e-01, -2.37513654e-01,\n",
       "         5.61837960e-01, -2.80377653e-01,  3.49796710e-02],\n",
       "       [ 6.23756555e-03, -1.53783525e-01, -3.38416647e-02,\n",
       "         9.47860684e-01,  4.17173211e-01,  4.59016527e-02],\n",
       "       [ 1.11237732e-02,  5.56594824e-03, -2.09688223e-01,\n",
       "         6.96251604e-04, -5.24603376e-02,  9.88179777e-01],\n",
       "       [ 8.87242552e-02, -2.34971943e-01, -5.17877689e-01,\n",
       "         1.55571365e-01,  6.85757949e-01,  7.55704570e-01],\n",
       "       [ 4.26844897e-02, -3.34362615e-01,  2.27270214e-01,\n",
       "         6.54794978e-01, -8.90143745e-01,  3.02520603e-01],\n",
       "       [ 1.10056245e-01,  3.08606031e-02,  6.25158463e-01,\n",
       "         2.16338661e-03,  8.76495800e-02,  8.87780394e-01],\n",
       "       [ 6.43760147e-01, -9.53468224e-01, -9.07233255e-02,\n",
       "         3.53043622e-01,  6.71848114e-02,  3.19634643e-03],\n",
       "       [ 1.13145295e-01,  5.08132584e-01,  3.78384878e-01,\n",
       "         5.70502562e-01,  8.49658335e-01,  3.16352342e-01],\n",
       "       [ 3.49374455e-01,  9.04625884e-01, -3.01496188e-01,\n",
       "         5.85580871e-01, -3.90327988e-01,  6.50447895e-02],\n",
       "       [ 7.72885557e-03, -8.29352960e-02,  1.54266705e-01,\n",
       "         2.22486475e-01, -8.27687536e-01,  7.69784609e-01],\n",
       "       [ 2.79449254e-01, -4.62137004e-01,  7.69323591e-01,\n",
       "         1.91063858e-01, -6.36131416e-01,  5.29486820e-01],\n",
       "       [ 1.34722700e-01, -6.81592612e-01,  4.14910238e-02,\n",
       "         8.62082798e-01, -1.04956237e-01,  3.19453414e-03],\n",
       "       [ 9.64247757e-02, -5.76534507e-01,  1.26949290e-01,\n",
       "         8.61791056e-01, -3.79521994e-01,  4.17841840e-02],\n",
       "       [ 4.68618889e-01,  6.11021527e-01, -7.89122206e-01,\n",
       "         1.99174273e-01, -5.14459262e-01,  3.32206976e-01],\n",
       "       [ 8.67482743e-04, -5.70399535e-02, -1.46069824e-02,\n",
       "         9.37642945e-01,  4.80229493e-01,  6.14893887e-02],\n",
       "       [ 1.13165586e-01,  5.04541321e-01, -3.83242284e-01,\n",
       "         5.62366073e-01, -8.54330257e-01,  3.24468448e-01],\n",
       "       [ 3.32006936e-01,  3.58794361e-02, -9.41183068e-01,\n",
       "         9.69357713e-04, -5.08560427e-02,  6.67023391e-01],\n",
       "       [ 7.31058203e-02,  4.07420174e-01, -3.24120599e-01,\n",
       "         5.67640159e-01, -9.03165236e-01,  3.59253759e-01],\n",
       "       [ 8.76042312e-01,  3.59880448e-01,  5.52136296e-01,\n",
       "         3.69599548e-02,  1.13409509e-01,  8.69976497e-02],\n",
       "       [ 7.90266416e-01, -5.62409681e-01,  5.88792708e-01,\n",
       "         1.00062663e-01, -2.09513344e-01,  1.09670880e-01],\n",
       "       [ 7.85599907e-01,  7.12625046e-02, -8.17711784e-01,\n",
       "         1.61607216e-03, -3.70877015e-02,  2.12784063e-01],\n",
       "       [ 2.96078850e-01, -6.44693760e-01,  6.46555919e-01,\n",
       "         3.50945402e-01, -7.03918173e-01,  3.52975699e-01],\n",
       "       [ 1.23136916e-01, -1.46129471e-02,  6.57026157e-01,\n",
       "         4.33538194e-04, -3.89854190e-02,  8.76429641e-01],\n",
       "       [ 1.71343178e-01,  7.47204513e-01,  9.81029125e-02,\n",
       "         8.14614554e-01,  2.13906792e-01,  1.40422595e-02],\n",
       "       [ 5.40052245e-01,  1.22196992e-02,  9.96711452e-01,\n",
       "         6.91234274e-05,  1.12762369e-02,  4.59878525e-01],\n",
       "       [ 5.43939497e-01,  9.09767197e-01,  4.05710471e-01,\n",
       "         3.80408280e-01,  3.39285968e-01,  7.56522495e-02],\n",
       "       [ 6.55711689e-02,  2.11771277e-01, -4.47481012e-01,\n",
       "         1.70986253e-01, -7.22601312e-01,  7.63442453e-01],\n",
       "       [ 8.41569937e-01,  6.95078240e-01, -2.24023205e-01,\n",
       "         1.43521572e-01, -9.25137939e-02,  1.49085638e-02],\n",
       "       [ 6.56808479e-02,  3.95372970e-01,  2.98575995e-01,\n",
       "         5.94997592e-01,  8.98655253e-01,  3.39321232e-01],\n",
       "       [ 3.48309175e-01,  5.20262106e-01,  7.98302429e-01,\n",
       "         1.94276148e-01,  5.96203794e-01,  4.57414572e-01],\n",
       "       [ 7.96138365e-01,  3.43586992e-01,  7.28804932e-01,\n",
       "         3.70701960e-02,  1.57264054e-01,  1.66791556e-01],\n",
       "       [ 4.63638905e-01, -2.02335193e-01,  9.76612311e-01,\n",
       "         2.20751160e-02, -2.13100150e-01,  5.14285792e-01],\n",
       "       [ 7.74475735e-01, -5.56641579e-01,  6.23540039e-01,\n",
       "         1.00019224e-01, -2.24079526e-01,  1.25504958e-01],\n",
       "       [ 3.84738371e-01, -8.71308792e-01,  4.33220694e-01,\n",
       "         4.93308614e-01, -4.90552837e-01,  1.21953114e-01],\n",
       "       [ 8.00865680e-01,  7.81169575e-01, -1.66414838e-01,\n",
       "         1.90489467e-01, -8.11610556e-02,  8.64498845e-03],\n",
       "       [ 2.62025929e-02,  1.37274375e-01,  2.88478432e-01,\n",
       "         1.79793791e-01,  7.55663698e-01,  7.94003535e-01],\n",
       "       [ 2.55643393e-01, -7.91448950e-01, -3.67107458e-01,\n",
       "         6.12563688e-01,  5.68265834e-01,  1.31792850e-01],\n",
       "       [ 1.13785785e-02,  9.67128899e-02,  1.88793645e-01,\n",
       "         2.05504208e-01,  8.02331282e-01,  7.83117158e-01],\n",
       "       [ 7.77521507e-01, -7.78778473e-01, -2.92285819e-01,\n",
       "         1.95009368e-01,  1.46379169e-01,  2.74690150e-02],\n",
       "       [ 3.60195891e-01, -4.23839227e-02, -9.59178193e-01,\n",
       "         1.24681940e-03,  5.64328126e-02,  6.38557262e-01],\n",
       "       [ 4.80567542e-01, -9.73927350e-01,  2.23505797e-01,\n",
       "         4.93444938e-01, -2.26480557e-01,  2.59874196e-02],\n",
       "       [ 1.53512529e-01,  7.07715416e-01,  1.37567668e-01,\n",
       "         8.15668127e-01,  3.17103625e-01,  3.08197371e-02],\n",
       "       [ 5.79746269e-01, -6.23428135e-01, -7.65440689e-01,\n",
       "         1.67600319e-01,  4.11556992e-01,  2.52653393e-01],\n",
       "       [ 4.40702984e-02, -1.69268183e-01,  3.73979581e-01,\n",
       "         1.62534172e-01, -7.18203036e-01,  7.93395622e-01],\n",
       "       [ 1.41617081e-01,  2.90327208e-01, -6.34000798e-01,\n",
       "         1.48798943e-01, -6.49878108e-01,  7.09584269e-01],\n",
       "       [ 5.39304540e-01,  9.05370590e-01,  4.17282519e-01,\n",
       "         3.79978215e-01,  3.50261580e-01,  8.07172420e-02],\n",
       "       [ 9.73485622e-01, -2.99940411e-01, -1.15244000e-01,\n",
       "         2.31036413e-02,  1.77538999e-02,  3.41072819e-03],\n",
       "       [ 2.77846818e-01, -8.55312337e-01, -2.66519792e-01,\n",
       "         6.58239672e-01,  4.10221841e-01,  6.39136343e-02],\n",
       "       [ 4.39782087e-01, -6.35970058e-01, -7.62258067e-01,\n",
       "         2.29919502e-01,  5.51151719e-01,  3.30298446e-01]])"
      ]
     },
     "execution_count": 284,
     "metadata": {},
     "output_type": "execute_result"
    }
   ],
   "source": [
    "B"
   ]
  },
  {
   "cell_type": "code",
   "execution_count": 285,
   "metadata": {},
   "outputs": [],
   "source": [
    "mosaic_picture = pydicom.read_file(mosaic_pictures_files + mosaic_paths[10])\n",
    "a = mosaic_picture.fix_meta_info"
   ]
  },
  {
   "cell_type": "code",
   "execution_count": 286,
   "metadata": {},
   "outputs": [
    {
     "data": {
      "text/plain": [
       "(71, 64, 128, 128)"
      ]
     },
     "execution_count": 286,
     "metadata": {},
     "output_type": "execute_result"
    }
   ],
   "source": [
    "series_number ,slice_number, height, width = all_mosaic_slices.shape\n",
    "\n",
    "series_number ,slice_number, height, width "
   ]
  },
  {
   "cell_type": "code",
   "execution_count": 301,
   "metadata": {},
   "outputs": [],
   "source": [
    "DTmp = np.zeros((3, 3))\n",
    "\n",
    "DX_map = np.zeros((slice_number, height, width, 1))\n",
    "DY_map = np.zeros((slice_number, height, width, 1))\n",
    "DZ_map = np.zeros((slice_number, height, width, 1))\n",
    "\n",
    "L1map = np.zeros((slice_number, height, width, 1))\n",
    "L2map = np.zeros((slice_number, height, width, 1))\n",
    "L3map = np.zeros((slice_number, height, width, 1))\n",
    "\n",
    "RDmap = np.zeros((slice_number, height, width, 1))\n",
    "FAmap = np.zeros((slice_number, height, width, 1)) \n",
    "colorFAmap = np.zeros((slice_number, height, width, 3)) \n",
    " \n",
    "ADCmap = np.zeros((slice_number, height, width, 1)) \n",
    "eADCmap = np.zeros((slice_number, height, width, 1)) \n",
    "TRACEmap = np.zeros((slice_number, height, width, 1)) "
   ]
  },
  {
   "cell_type": "code",
   "execution_count": 320,
   "metadata": {},
   "outputs": [
    {
     "data": {
      "text/plain": [
       "0.0"
      ]
     },
     "execution_count": 320,
     "metadata": {},
     "output_type": "execute_result"
    }
   ],
   "source": [
    "DX_map[23,2,4,0]"
   ]
  },
  {
   "cell_type": "code",
   "execution_count": 288,
   "metadata": {},
   "outputs": [
    {
     "data": {
      "text/plain": [
       "(64, 128, 128)"
      ]
     },
     "execution_count": 288,
     "metadata": {},
     "output_type": "execute_result"
    }
   ],
   "source": [
    "b0_average_mosaic_slice.shape"
   ]
  },
  {
   "cell_type": "code",
   "execution_count": 289,
   "metadata": {},
   "outputs": [
    {
     "data": {
      "text/plain": [
       "(60, 64, 128, 128)"
      ]
     },
     "execution_count": 289,
     "metadata": {},
     "output_type": "execute_result"
    }
   ],
   "source": [
    "dwi_mosaic_slicess.shape"
   ]
  },
  {
   "cell_type": "code",
   "execution_count": 290,
   "metadata": {},
   "outputs": [
    {
     "data": {
      "text/plain": [
       "array([[ 9.99914642e-01,  1.44442035e-02, -1.15462272e-02,\n",
       "         5.21632062e-05, -8.33951460e-05,  3.33316857e-05],\n",
       "       [ 3.45265205e-01,  4.50066726e-01,  8.37656657e-01,\n",
       "         1.46669904e-01,  5.45959142e-01,  5.08065008e-01],\n",
       "       [ 8.03769089e-01, -5.11864374e-02, -7.92639724e-01,\n",
       "         8.14926641e-04,  2.52388430e-02,  1.95416115e-01],\n",
       "       [ 5.32590014e-01,  6.09271364e-01, -7.90278026e-01,\n",
       "         1.74248289e-01, -4.52030416e-01,  2.93161410e-01],\n",
       "       [ 2.35863342e-02,  2.96690244e-01, -6.39918039e-02,\n",
       "         9.33009560e-01, -4.02473394e-01,  4.34038514e-02],\n",
       "       [ 1.33354225e-02, -1.79938654e-01,  1.42311080e-01,\n",
       "         6.06990873e-01, -9.60121963e-01,  3.79673824e-01],\n",
       "       [ 1.65907782e-01, -3.43851202e-01, -6.59769511e-01,\n",
       "         1.78161699e-01,  6.83700718e-01,  6.55930365e-01],\n",
       "       [ 4.39496172e-02, -3.18341925e-01, -2.58322685e-01,\n",
       "         5.76464526e-01,  9.35559236e-01,  3.79585839e-01],\n",
       "       [ 8.84829571e-03,  1.82762234e-01, -4.09631402e-02,\n",
       "         9.43742031e-01, -4.23048419e-01,  4.74096625e-02],\n",
       "       [ 1.82939286e-02, -1.03705565e-02, -2.67823640e-01,\n",
       "         1.46972864e-03,  7.59126228e-02,  9.80236447e-01],\n",
       "       [ 2.00001114e-02, -2.13817965e-01, -1.80782430e-01,\n",
       "         5.71473344e-01,  9.66357899e-01,  4.08526311e-01],\n",
       "       [ 4.03182291e-01,  9.51888892e-01, -2.37513654e-01,\n",
       "         5.61837960e-01, -2.80377653e-01,  3.49796710e-02],\n",
       "       [ 6.23756555e-03, -1.53783525e-01, -3.38416647e-02,\n",
       "         9.47860684e-01,  4.17173211e-01,  4.59016527e-02],\n",
       "       [ 1.11237732e-02,  5.56594824e-03, -2.09688223e-01,\n",
       "         6.96251604e-04, -5.24603376e-02,  9.88179777e-01],\n",
       "       [ 8.87242552e-02, -2.34971943e-01, -5.17877689e-01,\n",
       "         1.55571365e-01,  6.85757949e-01,  7.55704570e-01],\n",
       "       [ 4.26844897e-02, -3.34362615e-01,  2.27270214e-01,\n",
       "         6.54794978e-01, -8.90143745e-01,  3.02520603e-01],\n",
       "       [ 1.10056245e-01,  3.08606031e-02,  6.25158463e-01,\n",
       "         2.16338661e-03,  8.76495800e-02,  8.87780394e-01],\n",
       "       [ 6.43760147e-01, -9.53468224e-01, -9.07233255e-02,\n",
       "         3.53043622e-01,  6.71848114e-02,  3.19634643e-03],\n",
       "       [ 1.13145295e-01,  5.08132584e-01,  3.78384878e-01,\n",
       "         5.70502562e-01,  8.49658335e-01,  3.16352342e-01],\n",
       "       [ 3.49374455e-01,  9.04625884e-01, -3.01496188e-01,\n",
       "         5.85580871e-01, -3.90327988e-01,  6.50447895e-02],\n",
       "       [ 7.72885557e-03, -8.29352960e-02,  1.54266705e-01,\n",
       "         2.22486475e-01, -8.27687536e-01,  7.69784609e-01],\n",
       "       [ 2.79449254e-01, -4.62137004e-01,  7.69323591e-01,\n",
       "         1.91063858e-01, -6.36131416e-01,  5.29486820e-01],\n",
       "       [ 1.34722700e-01, -6.81592612e-01,  4.14910238e-02,\n",
       "         8.62082798e-01, -1.04956237e-01,  3.19453414e-03],\n",
       "       [ 9.64247757e-02, -5.76534507e-01,  1.26949290e-01,\n",
       "         8.61791056e-01, -3.79521994e-01,  4.17841840e-02],\n",
       "       [ 4.68618889e-01,  6.11021527e-01, -7.89122206e-01,\n",
       "         1.99174273e-01, -5.14459262e-01,  3.32206976e-01],\n",
       "       [ 8.67482743e-04, -5.70399535e-02, -1.46069824e-02,\n",
       "         9.37642945e-01,  4.80229493e-01,  6.14893887e-02],\n",
       "       [ 1.13165586e-01,  5.04541321e-01, -3.83242284e-01,\n",
       "         5.62366073e-01, -8.54330257e-01,  3.24468448e-01],\n",
       "       [ 3.32006936e-01,  3.58794361e-02, -9.41183068e-01,\n",
       "         9.69357713e-04, -5.08560427e-02,  6.67023391e-01],\n",
       "       [ 7.31058203e-02,  4.07420174e-01, -3.24120599e-01,\n",
       "         5.67640159e-01, -9.03165236e-01,  3.59253759e-01],\n",
       "       [ 8.76042312e-01,  3.59880448e-01,  5.52136296e-01,\n",
       "         3.69599548e-02,  1.13409509e-01,  8.69976497e-02],\n",
       "       [ 7.90266416e-01, -5.62409681e-01,  5.88792708e-01,\n",
       "         1.00062663e-01, -2.09513344e-01,  1.09670880e-01],\n",
       "       [ 7.85599907e-01,  7.12625046e-02, -8.17711784e-01,\n",
       "         1.61607216e-03, -3.70877015e-02,  2.12784063e-01],\n",
       "       [ 2.96078850e-01, -6.44693760e-01,  6.46555919e-01,\n",
       "         3.50945402e-01, -7.03918173e-01,  3.52975699e-01],\n",
       "       [ 1.23136916e-01, -1.46129471e-02,  6.57026157e-01,\n",
       "         4.33538194e-04, -3.89854190e-02,  8.76429641e-01],\n",
       "       [ 1.71343178e-01,  7.47204513e-01,  9.81029125e-02,\n",
       "         8.14614554e-01,  2.13906792e-01,  1.40422595e-02],\n",
       "       [ 5.40052245e-01,  1.22196992e-02,  9.96711452e-01,\n",
       "         6.91234274e-05,  1.12762369e-02,  4.59878525e-01],\n",
       "       [ 5.43939497e-01,  9.09767197e-01,  4.05710471e-01,\n",
       "         3.80408280e-01,  3.39285968e-01,  7.56522495e-02],\n",
       "       [ 6.55711689e-02,  2.11771277e-01, -4.47481012e-01,\n",
       "         1.70986253e-01, -7.22601312e-01,  7.63442453e-01],\n",
       "       [ 8.41569937e-01,  6.95078240e-01, -2.24023205e-01,\n",
       "         1.43521572e-01, -9.25137939e-02,  1.49085638e-02],\n",
       "       [ 6.56808479e-02,  3.95372970e-01,  2.98575995e-01,\n",
       "         5.94997592e-01,  8.98655253e-01,  3.39321232e-01],\n",
       "       [ 3.48309175e-01,  5.20262106e-01,  7.98302429e-01,\n",
       "         1.94276148e-01,  5.96203794e-01,  4.57414572e-01],\n",
       "       [ 7.96138365e-01,  3.43586992e-01,  7.28804932e-01,\n",
       "         3.70701960e-02,  1.57264054e-01,  1.66791556e-01],\n",
       "       [ 4.63638905e-01, -2.02335193e-01,  9.76612311e-01,\n",
       "         2.20751160e-02, -2.13100150e-01,  5.14285792e-01],\n",
       "       [ 7.74475735e-01, -5.56641579e-01,  6.23540039e-01,\n",
       "         1.00019224e-01, -2.24079526e-01,  1.25504958e-01],\n",
       "       [ 3.84738371e-01, -8.71308792e-01,  4.33220694e-01,\n",
       "         4.93308614e-01, -4.90552837e-01,  1.21953114e-01],\n",
       "       [ 8.00865680e-01,  7.81169575e-01, -1.66414838e-01,\n",
       "         1.90489467e-01, -8.11610556e-02,  8.64498845e-03],\n",
       "       [ 2.62025929e-02,  1.37274375e-01,  2.88478432e-01,\n",
       "         1.79793791e-01,  7.55663698e-01,  7.94003535e-01],\n",
       "       [ 2.55643393e-01, -7.91448950e-01, -3.67107458e-01,\n",
       "         6.12563688e-01,  5.68265834e-01,  1.31792850e-01],\n",
       "       [ 1.13785785e-02,  9.67128899e-02,  1.88793645e-01,\n",
       "         2.05504208e-01,  8.02331282e-01,  7.83117158e-01],\n",
       "       [ 7.77521507e-01, -7.78778473e-01, -2.92285819e-01,\n",
       "         1.95009368e-01,  1.46379169e-01,  2.74690150e-02],\n",
       "       [ 3.60195891e-01, -4.23839227e-02, -9.59178193e-01,\n",
       "         1.24681940e-03,  5.64328126e-02,  6.38557262e-01],\n",
       "       [ 4.80567542e-01, -9.73927350e-01,  2.23505797e-01,\n",
       "         4.93444938e-01, -2.26480557e-01,  2.59874196e-02],\n",
       "       [ 1.53512529e-01,  7.07715416e-01,  1.37567668e-01,\n",
       "         8.15668127e-01,  3.17103625e-01,  3.08197371e-02],\n",
       "       [ 5.79746269e-01, -6.23428135e-01, -7.65440689e-01,\n",
       "         1.67600319e-01,  4.11556992e-01,  2.52653393e-01],\n",
       "       [ 4.40702984e-02, -1.69268183e-01,  3.73979581e-01,\n",
       "         1.62534172e-01, -7.18203036e-01,  7.93395622e-01],\n",
       "       [ 1.41617081e-01,  2.90327208e-01, -6.34000798e-01,\n",
       "         1.48798943e-01, -6.49878108e-01,  7.09584269e-01],\n",
       "       [ 5.39304540e-01,  9.05370590e-01,  4.17282519e-01,\n",
       "         3.79978215e-01,  3.50261580e-01,  8.07172420e-02],\n",
       "       [ 9.73485622e-01, -2.99940411e-01, -1.15244000e-01,\n",
       "         2.31036413e-02,  1.77538999e-02,  3.41072819e-03],\n",
       "       [ 2.77846818e-01, -8.55312337e-01, -2.66519792e-01,\n",
       "         6.58239672e-01,  4.10221841e-01,  6.39136343e-02],\n",
       "       [ 4.39782087e-01, -6.35970058e-01, -7.62258067e-01,\n",
       "         2.29919502e-01,  5.51151719e-01,  3.30298446e-01]])"
      ]
     },
     "execution_count": 290,
     "metadata": {},
     "output_type": "execute_result"
    }
   ],
   "source": [
    "B"
   ]
  },
  {
   "cell_type": "code",
   "execution_count": 291,
   "metadata": {},
   "outputs": [
    {
     "data": {
      "text/plain": [
       "(60, 6)"
      ]
     },
     "execution_count": 291,
     "metadata": {},
     "output_type": "execute_result"
    }
   ],
   "source": [
    "B.shape"
   ]
  },
  {
   "cell_type": "code",
   "execution_count": 294,
   "metadata": {},
   "outputs": [
    {
     "data": {
      "text/plain": [
       "(6, 60)"
      ]
     },
     "execution_count": 294,
     "metadata": {},
     "output_type": "execute_result"
    }
   ],
   "source": [
    "B_p = np.linalg.pinv(B)\n",
    "B_p.shape"
   ]
  },
  {
   "cell_type": "code",
   "execution_count": 295,
   "metadata": {},
   "outputs": [
    {
     "data": {
      "text/plain": [
       "6"
      ]
     },
     "execution_count": 295,
     "metadata": {},
     "output_type": "execute_result"
    }
   ],
   "source": [
    "len(B_p)"
   ]
  },
  {
   "cell_type": "code",
   "execution_count": 296,
   "metadata": {},
   "outputs": [],
   "source": [
    "D_k = np.zeros((6,1))"
   ]
  },
  {
   "cell_type": "code",
   "execution_count": 297,
   "metadata": {},
   "outputs": [
    {
     "data": {
      "text/plain": [
       "(6, 1)"
      ]
     },
     "execution_count": 297,
     "metadata": {},
     "output_type": "execute_result"
    }
   ],
   "source": [
    "D_k.shape"
   ]
  },
  {
   "cell_type": "code",
   "execution_count": 299,
   "metadata": {},
   "outputs": [
    {
     "data": {
      "text/plain": [
       "array([0.])"
      ]
     },
     "execution_count": 299,
     "metadata": {},
     "output_type": "execute_result"
    }
   ],
   "source": [
    "D_k[1]\n"
   ]
  },
  {
   "cell_type": "code",
   "execution_count": 325,
   "metadata": {},
   "outputs": [
    {
     "name": "stderr",
     "output_type": "stream",
     "text": [
      "/var/folders/kw/3t8qd9fd6hlfbqdps6pvpchw0000gn/T/ipykernel_22981/564749545.py:25: RuntimeWarning: divide by zero encountered in log\n",
      "  Msi = -(1/bValue) * np.log(dwi_mosaic_slicess / b0_average_mosaic_slice[s,y,x] )\n"
     ]
    },
    {
     "ename": "KeyboardInterrupt",
     "evalue": "",
     "output_type": "error",
     "traceback": [
      "\u001b[0;31m---------------------------------------------------------------------------\u001b[0m",
      "\u001b[0;31mKeyboardInterrupt\u001b[0m                         Traceback (most recent call last)",
      "Cell \u001b[0;32mIn[325], line 25\u001b[0m\n\u001b[1;32m     23\u001b[0m     TRACEmap[s,y,x,\u001b[38;5;241m0\u001b[39m] \u001b[38;5;241m=\u001b[39m \u001b[38;5;241m0\u001b[39m \n\u001b[1;32m     24\u001b[0m \u001b[38;5;28;01melif\u001b[39;00m b0_average_mosaic_slice[s,y,x] \u001b[38;5;241m>\u001b[39m threshold:\n\u001b[0;32m---> 25\u001b[0m     Msi \u001b[38;5;241m=\u001b[39m \u001b[38;5;241m-\u001b[39m(\u001b[38;5;241m1\u001b[39m\u001b[38;5;241m/\u001b[39mbValue) \u001b[38;5;241m*\u001b[39m \u001b[43mnp\u001b[49m\u001b[38;5;241;43m.\u001b[39;49m\u001b[43mlog\u001b[49m\u001b[43m(\u001b[49m\u001b[43mdwi_mosaic_slicess\u001b[49m\u001b[43m \u001b[49m\u001b[38;5;241;43m/\u001b[39;49m\u001b[43m \u001b[49m\u001b[43mb0_average_mosaic_slice\u001b[49m\u001b[43m[\u001b[49m\u001b[43ms\u001b[49m\u001b[43m,\u001b[49m\u001b[43my\u001b[49m\u001b[43m,\u001b[49m\u001b[43mx\u001b[49m\u001b[43m]\u001b[49m\u001b[43m \u001b[49m\u001b[43m)\u001b[49m\n\u001b[1;32m     26\u001b[0m     Msi[Msi \u001b[38;5;241m==\u001b[39m np\u001b[38;5;241m.\u001b[39minf] \u001b[38;5;241m=\u001b[39m \u001b[38;5;241m0\u001b[39m\n\u001b[1;32m     28\u001b[0m     B_p \u001b[38;5;241m=\u001b[39m np\u001b[38;5;241m.\u001b[39mlinalg\u001b[38;5;241m.\u001b[39mpinv(B)\n",
      "\u001b[0;31mKeyboardInterrupt\u001b[0m: "
     ]
    }
   ],
   "source": [
    "threshold = 40\n",
    "\n",
    "bValue = np.max(b_values)\n",
    "\n",
    "D = np.zeros((3, 3))\n",
    "\n",
    "for s in range(slice_number):\n",
    "    for y in range(height):\n",
    "        for x in range(width):\n",
    "            if b0_average_mosaic_slice[s,y,x] <= threshold:\n",
    "                DX_map[s,y,x,0] = 0\n",
    "                DY_map[s,y,x,0] = 0\n",
    "                DZ_map[s,y,x,0] = 0\n",
    "\n",
    "                L1map[s,y,x,0] = 0\n",
    "                L2map[s,y,x,0] = 0\n",
    "                L3map[s,y,x,0] = 0\n",
    "\n",
    "                RDmap[s,y,x,0] = 0\n",
    "                FAmap[s,y,x,0] = 0 \n",
    "                colorFAmap[s,y,x,:] = [0,0,0] \n",
    "\n",
    "                TRACEmap[s,y,x,0] = 0 \n",
    "            elif b0_average_mosaic_slice[s,y,x] > threshold:\n",
    "                Msi = -(1/bValue) * np.log(dwi_mosaic_slicess / b0_average_mosaic_slice[s,y,x] )\n",
    "                Msi[Msi == np.inf] = 0\n",
    "\n",
    "                B_p = np.linalg.pinv(B)\n",
    "\n",
    "                D_k = np.zeros((6,1))\n",
    "\n",
    "                for i in range(len(B_p)):\n",
    "                    # iterate through Matrix b columns\n",
    "                    for j in range(len(Msi[0])):\n",
    "                        # iterate through rows of Matrix b\n",
    "                        for k in range(len(Msi)):\n",
    "                            D_k[i] += B_p[i,k] * Msi[k,j,y,x]  # Corrected line \n",
    "\n",
    "\n",
    "                D[0,0] =  D_k[0]\n",
    "                D[0,1] =  D_k[1]\n",
    "                D[0,2] =  D_k[2]\n",
    "                D[1,0] =  D_k[1]\n",
    "                D[1,1] =  D_k[3]\n",
    "                D[1,2] =  D_k[4]\n",
    "                D[2,0] =  D_k[2]\n",
    "                D[2,1] =  D_k[4]\n",
    "                D[2,2] =  D_k[5]\n",
    "\n",
    "                DX_map[s,y,x,0] = D[0, 0]\n",
    "                DY_map[s,y,x,0] = D[1, 1]\n",
    "                DZ_map[s,y,x,0] = D[2, 2]\n",
    "\n",
    "                U, S, V =  np.linalg.svd(D)\n",
    "\n",
    "                L1map[s,y,x,0] = S[0]\n",
    "                L2map[s,y,x,0] = S[1]\n",
    "                L3map[s,y,x,0] = S[2]\n",
    "\n",
    "                RDmap[s,y,x,0] = (L2map[s,y,x,0] + L3map[s,y,x,0]) / 2\n",
    "\n",
    "                D_av = ( L1map[s,y,x,0] + L2map[s,y,x,0] + L3map[s,y,x,0] ) / 3\n",
    "                FA_value = np.sqrt( 3*(((L1map[s,y,x,0] - D_av)**2 + (L2map[s,y,x,0] - D_av)**2 + (L3map[s,y,x,0] - D_av)**2) / (2*(L1map[s,y,x,0]**2 + L2map[s,y,x,0]**2 + L3map[s,y,x,0]**2))) )\n",
    "                FAmap[s,y,x,0] = FA_value\n",
    "\n",
    "                # colorFAmap[s,y,x,0] = abs(U[0,0]) * FA_value  % Red [Left - Right]\n",
    "                # colorFAmap[s,y,x,1] = abs(U[1,0]) * FA_value  % Green [Anterior - Posterior]\n",
    "                # colorFAmap[s,y,x,2] = abs(U[2,0]) * FA_value  % Blue [Head - Feet]\n",
    "                colorFAmap[s,y,x,:] = abs(U[:,0]) * FA_value\n",
    "\n",
    "                ADCmap[s,y,x,0] = D_av\n",
    "\n",
    "                eADCmap[s,y,x,0] = np.exp(-bValue*D_av)\n",
    "\n",
    "                TRACEmap[s,y,x,0] = (L1map[s,y,x,0] + L2map[s,y,x,0] + L3map[s,y,x,0])\n",
    "            "
   ]
  },
  {
   "cell_type": "code",
   "execution_count": null,
   "metadata": {},
   "outputs": [
    {
     "data": {
      "text/plain": [
       "0.20654266112978267"
      ]
     },
     "execution_count": 303,
     "metadata": {},
     "output_type": "execute_result"
    }
   ],
   "source": [
    "colorFAmap.shape"
   ]
  },
  {
   "cell_type": "code",
   "execution_count": null,
   "metadata": {},
   "outputs": [],
   "source": []
  },
  {
   "cell_type": "code",
   "execution_count": null,
   "metadata": {},
   "outputs": [],
   "source": []
  },
  {
   "cell_type": "code",
   "execution_count": null,
   "metadata": {},
   "outputs": [],
   "source": []
  },
  {
   "cell_type": "code",
   "execution_count": null,
   "metadata": {},
   "outputs": [],
   "source": []
  },
  {
   "cell_type": "code",
   "execution_count": null,
   "metadata": {},
   "outputs": [],
   "source": []
  },
  {
   "cell_type": "code",
   "execution_count": null,
   "metadata": {},
   "outputs": [],
   "source": []
  },
  {
   "cell_type": "code",
   "execution_count": null,
   "metadata": {},
   "outputs": [],
   "source": []
  }
 ],
 "metadata": {
  "kernelspec": {
   "display_name": "Python 3",
   "language": "python",
   "name": "python3"
  },
  "language_info": {
   "codemirror_mode": {
    "name": "ipython",
    "version": 3
   },
   "file_extension": ".py",
   "mimetype": "text/x-python",
   "name": "python",
   "nbconvert_exporter": "python",
   "pygments_lexer": "ipython3",
   "version": "3.11.6"
  }
 },
 "nbformat": 4,
 "nbformat_minor": 2
}
